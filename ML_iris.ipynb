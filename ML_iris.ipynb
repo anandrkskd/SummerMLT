{
 "cells": [
  {
   "cell_type": "code",
   "execution_count": 6,
   "metadata": {},
   "outputs": [
    {
     "name": "stdout",
     "output_type": "stream",
     "text": [
      "[0]\n"
     ]
    }
   ],
   "source": [
    "#currently not working !! HAVE TO WORK ON --->\n",
    "\n",
    "\n",
    "from sklearn import tree\n",
    "from sklearn.datasets import load_iris\n",
    "iris=load_iris()\n",
    "dir(iris)\n",
    "#output data to traixn setosa,versicolor and virginica\n",
    "train_setosa=iris.data[0:49]\n",
    "train_versicolor=iris.data[50:99]\n",
    "train_virginica=iris.data[100:149]\n",
    "\n",
    "#data to test setosa versicolor virginica\n",
    "test_setosa=iris.data[49]\n",
    "test_versicolor=iris.data[99]\n",
    "test_virginica=iris.data[149]\n",
    "\n",
    "#output data to train setosa\n",
    "train_setosa_out=iris.target[0:49]\n",
    "test_setosa=iris.target[49]\n",
    "#output  data to train versicolor\n",
    "train_versicolor_out=iris.target[50:99]\n",
    "\n",
    "#output data to train virginica\n",
    "train_virginica_out=iris.target[100:149]\n",
    "\n",
    "#train machine\n",
    "X=[]\n",
    "X.extend(train_setosa)\n",
    "X.extend(train_versicolor)\n",
    "X.extend(train_virginica)\n",
    "y=[]\n",
    "y.extend(train_setosa_out)\n",
    "y.extend(train_versicolor_out)\n",
    "y.extend(train_virginica_out)\n",
    "#tree.DecisionTreeClassifier\n",
    "algo=tree.DecisionTreeClassifier()\n",
    "trained=algo.fit(X,y)\n",
    "res=trained.predict([[5.2,1,2,3]])\n",
    "print(res)"
   ]
  },
  {
   "cell_type": "code",
   "execution_count": 56,
   "metadata": {},
   "outputs": [
    {
     "name": "stdout",
     "output_type": "stream",
     "text": [
      "[1]\n"
     ]
    }
   ],
   "source": [
    "#working load_iris datasets \n",
    "\n",
    "\n",
    "from sklearn import tree\n",
    "from sklearn.datasets import load_iris\n",
    "iris=load_iris()\n",
    "dir(iris)\n",
    "#output data to traixn setosa,versicolor and virginica\n",
    "x=iris.data\n",
    "#fetching data\n",
    "feature=np.delete(x, np.s_[::50], 0)\n",
    "#print(x)\n",
    "y=iris.target\n",
    "#featching output\n",
    "output=np.delete(y, np.s_[::50], 0)\n",
    "#algo=tree.DecisionTreeClassifier()\n",
    "#train=algo.fit(x,y)\n",
    "\n",
    "trained=algo.fit(feature,output)    \t\t#genrally looking for 1core --[gpu]\n",
    "\n",
    "#testing trained model for questions ANd answers\n",
    "res=trained.predict([[5,2,3,1]])\n",
    "\n",
    "#res=train.pridict([test_setosa])\n",
    "print(res)"
   ]
  },
  {
   "cell_type": "code",
   "execution_count": 42,
   "metadata": {},
   "outputs": [
    {
     "data": {
      "text/plain": [
       "array([[ 2,  4],\n",
       "       [ 6,  8],\n",
       "       [10, 12]])"
      ]
     },
     "execution_count": 42,
     "metadata": {},
     "output_type": "execute_result"
    }
   ],
   "source": [
    "#test working of numpy delete\n",
    "\n",
    "import numpy as np\n",
    "arr = np.array([[1,2,3,4], [5,6,7,8], [9,10,11,12]])\n",
    "np.delete(arr, np.s_[::2], 1)"
   ]
  },
  {
   "cell_type": "code",
   "execution_count": 45,
   "metadata": {},
   "outputs": [
    {
     "name": "stdout",
     "output_type": "stream",
     "text": [
      "['orange']\n"
     ]
    }
   ],
   "source": [
    "#previous work ON ML\n",
    "\n",
    "#!/usr/bin/python3\n",
    "\n",
    "from sklearn import tree\n",
    "\n",
    "#apple& orange -- texture 0-bumpy 1-smooth and weight\n",
    "feature=[[110,1],[120,1],[130,0],[140,0]]\n",
    "output=[\"apple\",\"apple\",\"orange\",\"orange\"]\n",
    "#sikit-learning\n",
    "\n",
    "#now loading Decision tree Clasifier\n",
    "\n",
    "algo=tree.DecisionTreeClassifier()\n",
    "#now train the feature and output\n",
    "\n",
    "trained=algo.fit(feature,output)    \t\t#genrally looking for 1core --[gpu]\n",
    "\n",
    "#testing trained model for questions ANd answers\n",
    "res=trained.predict([[150,1]])\n",
    "\n",
    "#predicted output\n",
    "print(res)"
   ]
  },
  {
   "cell_type": "code",
   "execution_count": null,
   "metadata": {},
   "outputs": [],
   "source": []
  }
 ],
 "metadata": {
  "kernelspec": {
   "display_name": "Python 3",
   "language": "python",
   "name": "python3"
  },
  "language_info": {
   "codemirror_mode": {
    "name": "ipython",
    "version": 3
   },
   "file_extension": ".py",
   "mimetype": "text/x-python",
   "name": "python",
   "nbconvert_exporter": "python",
   "pygments_lexer": "ipython3",
   "version": "3.5.2"
  }
 },
 "nbformat": 4,
 "nbformat_minor": 2
}
