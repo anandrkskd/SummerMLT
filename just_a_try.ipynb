{
 "cells": [
  {
   "cell_type": "code",
   "execution_count": 8,
   "metadata": {},
   "outputs": [
    {
     "name": "stdout",
     "output_type": "stream",
     "text": [
      "True\n"
     ]
    }
   ],
   "source": [
    "def prime(num):\n",
    "        if num > 1:\n",
    "           for i in range(2,num):\n",
    "               if (num % i) == 0:\n",
    "                return False\n",
    "                break\n",
    "           else:\n",
    "               return True\n",
    "        else:\n",
    "           False\n",
    "\n",
    "        \n",
    "x=prime(11)\n",
    "print(x)"
   ]
  },
  {
   "cell_type": "code",
   "execution_count": 15,
   "metadata": {},
   "outputs": [],
   "source": [
    "list_of_shapes=[]\n",
    "array_main=[1,2,3,4,5,6,7,8,9]\n",
    "def create_shapes():\n",
    "        for i in array_main:\n",
    "                if len(array_main)//i==0:\n",
    "                        x=len(array_main)/i\n",
    "                        list_of_shapes.append((i,x))\n",
    "        print(list_of_shapes)"
   ]
  },
  {
   "cell_type": "code",
   "execution_count": 18,
   "metadata": {},
   "outputs": [
    {
     "data": {
      "text/plain": [
       "9"
      ]
     },
     "execution_count": 18,
     "metadata": {},
     "output_type": "execute_result"
    }
   ],
   "source": [
    "list_of_shapes=[]\n",
    "array_main=[1,2,3,4,5,6,7,8,9]\n",
    "for i in array_main:\n",
    "    if len(array_main)//i==0:\n",
    "        x=len(array_main)/i\n",
    "        list_of_shapes.append((i,x))\n",
    "len(array_main)"
   ]
  },
  {
   "cell_type": "code",
   "execution_count": 4,
   "metadata": {},
   "outputs": [],
   "source": [
    "list_of_shapes=[]\n",
    "for i in [1,2,3,4,5,6,7,8,9]:\n",
    "    if 9//i==0:\n",
    "        x=9//i\n",
    "        list_of_shapes.append((i,x))\n",
    "        print(i,x)\n",
    "    else:\n",
    "        x=9//i"
   ]
  },
  {
   "cell_type": "code",
   "execution_count": 32,
   "metadata": {},
   "outputs": [
    {
     "data": {
      "text/plain": [
       "False"
      ]
     },
     "execution_count": 32,
     "metadata": {},
     "output_type": "execute_result"
    }
   ],
   "source": [
    "9//3==0.0000"
   ]
  },
  {
   "cell_type": "markdown",
   "metadata": {},
   "source": []
  }
 ],
 "metadata": {
  "kernelspec": {
   "display_name": "Python 3",
   "language": "python",
   "name": "python3"
  },
  "language_info": {
   "codemirror_mode": {
    "name": "ipython",
    "version": 3
   },
   "file_extension": ".py",
   "mimetype": "text/x-python",
   "name": "python",
   "nbconvert_exporter": "python",
   "pygments_lexer": "ipython3",
   "version": "3.5.2"
  }
 },
 "nbformat": 4,
 "nbformat_minor": 2
}
